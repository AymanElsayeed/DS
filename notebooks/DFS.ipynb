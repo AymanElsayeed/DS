{
 "cells": [
  {
   "metadata": {},
   "cell_type": "markdown",
   "source": "# Depth First Search (DFS)",
   "id": "22a4d9985a179731"
  },
  {
   "metadata": {},
   "cell_type": "markdown",
   "source": [
    "## Implementing DFS for graphs\n",
    "\n",
    "This example, implement a depth first search algorithm to traverse a graph.\n",
    "\n",
    "The steps:\n",
    "\n",
    "Start at any vertex\n",
    "\n",
    "Add the vertex to the visited vertices list\n",
    "\n",
    "For each current node's adjacent vertex\n",
    "\n",
    "If it has been visited -> ignore it\n",
    "\n",
    "If it hasn't been visited -> recursively perform DFS\n",
    "\n",
    "To help you test your code, the following graph has been loaded using a dictionary.\n",
    "\n",
    "![](../assets/graph_exercises.png)\n",
    "\n",
    "``` python\n",
    "graph = {'0': ['1', '2'],\n",
    " '1': ['0', '2', '3'],\n",
    " '2': ['0', '1', '4'],\n",
    " '3': ['1', '4'],\n",
    " '4': ['2', '3']}\n",
    "```"
   ],
   "id": "41f6f0e592a0584a"
  },
  {
   "metadata": {
    "ExecuteTime": {
     "end_time": "2024-08-11T12:59:42.603316Z",
     "start_time": "2024-08-11T12:59:42.597693Z"
    }
   },
   "cell_type": "code",
   "source": [
    "def dfs(visited_vertices, graph, current_vertex):\n",
    "    # Check if current_vertex hasn't been visited yet\n",
    "    if current_vertex not in visited_vertices:\n",
    "        print(current_vertex)\n",
    "        # Add current_vertex to visited_vertices\n",
    "        visited_vertices.add(current_vertex)\n",
    "        for adjacent_vertex in graph[current_vertex]:\n",
    "            # Call recursively with the appropriate values\n",
    "            dfs(visited_vertices, graph, adjacent_vertex)\n",
    "            \n"
   ],
   "id": "5f0594150fc4cdbc",
   "outputs": [],
   "execution_count": 1
  },
  {
   "metadata": {
    "ExecuteTime": {
     "end_time": "2024-08-11T12:59:42.875622Z",
     "start_time": "2024-08-11T12:59:42.872381Z"
    }
   },
   "cell_type": "code",
   "source": [
    "graph = {'0': ['1', '2'],\n",
    " '1': ['0', '2', '3'],\n",
    " '2': ['0', '1', '4'],\n",
    " '3': ['1', '4'],\n",
    " '4': ['2', '3']}"
   ],
   "id": "20312e36b78e0771",
   "outputs": [],
   "execution_count": 2
  },
  {
   "metadata": {
    "ExecuteTime": {
     "end_time": "2024-08-11T12:59:43.167672Z",
     "start_time": "2024-08-11T12:59:43.165441Z"
    }
   },
   "cell_type": "code",
   "source": "dfs(set(), graph, '0')",
   "id": "ad35347f7f7661cf",
   "outputs": [
    {
     "name": "stdout",
     "output_type": "stream",
     "text": [
      "0\n",
      "1\n",
      "2\n",
      "4\n",
      "3\n"
     ]
    }
   ],
   "execution_count": 3
  },
  {
   "metadata": {},
   "cell_type": "code",
   "outputs": [],
   "execution_count": null,
   "source": "",
   "id": "9cbcdf6e6d4ac101"
  }
 ],
 "metadata": {
  "kernelspec": {
   "display_name": "Python 3",
   "language": "python",
   "name": "python3"
  },
  "language_info": {
   "codemirror_mode": {
    "name": "ipython",
    "version": 2
   },
   "file_extension": ".py",
   "mimetype": "text/x-python",
   "name": "python",
   "nbconvert_exporter": "python",
   "pygments_lexer": "ipython2",
   "version": "2.7.6"
  }
 },
 "nbformat": 4,
 "nbformat_minor": 5
}
