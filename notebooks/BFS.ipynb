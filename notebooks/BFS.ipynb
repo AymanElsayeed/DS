{
 "cells": [
  {
   "metadata": {},
   "cell_type": "markdown",
   "source": "# Breadth First Search (BFS)",
   "id": "12da4134294b4984"
  },
  {
   "metadata": {},
   "cell_type": "markdown",
   "source": [
    "## Finding a graph vertex using BFS\n",
    "\n",
    "This example, uses the BFS algorithm to search for a given vertex within a graph.\n",
    "\n",
    "To help you test your code, the following graph has been loaded using a dictionary.\n",
    "\n",
    "![](../assets/finding_graph_vertex_bfs.png)\n",
    "\n",
    "The graph is represented by the following dictionary:\n",
    "\n",
    "```python\n",
    "graph = {'4': ['6', '7'],\n",
    " '6': ['4', '7', '8'],\n",
    " '7': ['4', '6', '9'],\n",
    " '8': ['6', '9'],\n",
    " '9': ['7', '8']}\n",
    "```\n"
   ],
   "id": "e853001736e0d396"
  },
  {
   "metadata": {
    "ExecuteTime": {
     "end_time": "2024-08-11T13:08:55.841988Z",
     "start_time": "2024-08-11T13:08:55.839661Z"
    }
   },
   "cell_type": "code",
   "source": [
    "import queue\n",
    "\n",
    "def bfs(graph, initial_vertex, search_value):\n",
    "    \n",
    "  visited_vertices = []\n",
    "  bfs_queue = queue.SimpleQueue()\n",
    "  visited_vertices.append(initial_vertex)\n",
    "  bfs_queue.put(initial_vertex)\n",
    "\n",
    "  while not bfs_queue.empty():\n",
    "    current_vertex = bfs_queue.get()\n",
    "    # Check if you found the search value\n",
    "    if current_vertex == search_value:\n",
    "      # Return True if you find the search value\n",
    "      return True    \n",
    "    for adjacent_vertex in graph[current_vertex]:\n",
    "      # Check if the adjacent vertex has been visited\n",
    "      if adjacent_vertex not in visited_vertices:\n",
    "        visited_vertices.append(adjacent_vertex)\n",
    "        bfs_queue.put(adjacent_vertex)\n",
    "  # Return False if you didn't find the search value\n",
    "  return False"
   ],
   "id": "9151e8e800e97132",
   "outputs": [],
   "execution_count": 5
  },
  {
   "metadata": {
    "ExecuteTime": {
     "end_time": "2024-08-11T13:08:57.640098Z",
     "start_time": "2024-08-11T13:08:57.636774Z"
    }
   },
   "cell_type": "code",
   "source": [
    "graph = {'4': ['6', '7'],\n",
    " '6': ['4', '7', '8'],\n",
    " '7': ['4', '6', '9'],\n",
    " '8': ['6', '9'],\n",
    " '9': ['7', '8']}"
   ],
   "id": "d4f6cf7388739a73",
   "outputs": [],
   "execution_count": 6
  },
  {
   "metadata": {
    "ExecuteTime": {
     "end_time": "2024-08-11T13:08:58.021383Z",
     "start_time": "2024-08-11T13:08:58.019401Z"
    }
   },
   "cell_type": "code",
   "source": "print(bfs(graph, '4', '8'))",
   "id": "6313e55f87a0cf37",
   "outputs": [
    {
     "name": "stdout",
     "output_type": "stream",
     "text": [
      "True\n"
     ]
    }
   ],
   "execution_count": 7
  },
  {
   "metadata": {},
   "cell_type": "code",
   "outputs": [],
   "execution_count": null,
   "source": "",
   "id": "8994a2f110abe70c"
  }
 ],
 "metadata": {
  "kernelspec": {
   "display_name": "Python 3",
   "language": "python",
   "name": "python3"
  },
  "language_info": {
   "codemirror_mode": {
    "name": "ipython",
    "version": 2
   },
   "file_extension": ".py",
   "mimetype": "text/x-python",
   "name": "python",
   "nbconvert_exporter": "python",
   "pygments_lexer": "ipython2",
   "version": "2.7.6"
  }
 },
 "nbformat": 4,
 "nbformat_minor": 5
}
